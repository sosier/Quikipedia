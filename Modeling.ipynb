{
 "cells": [
  {
   "cell_type": "markdown",
   "metadata": {},
   "source": [
    "# Modeling"
   ]
  },
  {
   "cell_type": "code",
   "execution_count": 1,
   "metadata": {
    "collapsed": false
   },
   "outputs": [],
   "source": [
    "# Import Dependencies\n",
    "\n",
    "# General\n",
    "import pickle\n",
    "import pandas as pd\n",
    "import itertools\n",
    "\n",
    "# Modeling functions\n",
    "from sklearn.decomposition import PCA\n",
    "from sklearn.ensemble import RandomForestClassifier, AdaBoostClassifier, GradientBoostingClassifier\n",
    "from sklearn.discriminant_analysis import LinearDiscriminantAnalysis, QuadraticDiscriminantAnalysis\n",
    "from sklearn.linear_model import LogisticRegression, SGDClassifier\n",
    "from sklearn.metrics import accuracy_score, classification_report\n",
    "from sklearn.naive_bayes import GaussianNB, BernoulliNB, MultinomialNB\n",
    "from sklearn.neighbors import KNeighborsClassifier\n",
    "from sklearn.neural_network import BernoulliRBM\n",
    "from sklearn.pipeline import Pipeline\n",
    "from sklearn.svm import LinearSVC, SVC\n",
    "from sklearn.tree import DecisionTreeClassifier\n",
    "\n",
    "# Display\n",
    "from pprint import pprint"
   ]
  },
  {
   "cell_type": "code",
   "execution_count": 2,
   "metadata": {
    "collapsed": true
   },
   "outputs": [],
   "source": [
    "data_path = \"/Users/seanosier/data/Metis/Wiki/\""
   ]
  },
  {
   "cell_type": "code",
   "execution_count": 3,
   "metadata": {
    "collapsed": true
   },
   "outputs": [],
   "source": [
    "# Pickling functions\n",
    "def pickle_it(data, filename, python_version=3):\n",
    "    \"\"\"\n",
    "    In:\n",
    "        data = the data you want to pickle (save)\n",
    "        filename = file name where you want to save the data\n",
    "        python_version = the python version where you will be opening the pickle file\n",
    "    \n",
    "    Out:\n",
    "        Saves a pickle file with your data to to the filename you specify\n",
    "    \"\"\"\n",
    "    with open(filename, \"wb\") as picklefile:\n",
    "        pickle.dump(data, picklefile, protocol=python_version)\n",
    "\n",
    "def load_pickle(filename):\n",
    "    \"\"\"\n",
    "    In:\n",
    "        filename = name of the pickle file you want to open (e.g \"my_pickle.pkl\")\n",
    "    \n",
    "    Out:\n",
    "        Opens and returns the content of the picklefile to a variable of your choice\n",
    "    \"\"\"\n",
    "    with open(filename, \"rb\") as picklefile: \n",
    "        return pickle.load(picklefile)"
   ]
  },
  {
   "cell_type": "code",
   "execution_count": 4,
   "metadata": {
    "collapsed": false
   },
   "outputs": [],
   "source": [
    "# Load and reaggregate article data\n",
    "article_data_a = load_pickle(data_path + \"article_data_a.pkl\")\n",
    "article_data_b = load_pickle(data_path + \"article_data_b.pkl\")\n",
    "article_data = article_data_a + article_data_b\n",
    "\n",
    "# Load labels for english sentences\n",
    "english_sentences_with_labels = load_pickle(data_path + \"english_sentences_with_labels.pkl\")"
   ]
  },
  {
   "cell_type": "code",
   "execution_count": 5,
   "metadata": {
    "collapsed": false
   },
   "outputs": [
    {
     "data": {
      "text/plain": [
       "(13158106, 113298)"
      ]
     },
     "execution_count": 5,
     "metadata": {},
     "output_type": "execute_result"
    }
   ],
   "source": [
    "# Note english_sentences_with_labels list needs to flattened to the sentence level\n",
    "len(article_data), len(english_sentences_with_labels)"
   ]
  },
  {
   "cell_type": "code",
   "execution_count": 6,
   "metadata": {
    "collapsed": false
   },
   "outputs": [],
   "source": [
    "# Flatten english_sentences_with_labels list\n",
    "english_sentences_with_labels = [sentence_label_pair for article in english_sentences_with_labels \\\n",
    "                                 for sentence_label_pair in article]\n",
    "\n",
    "english_sentences = english_sentences_with_labels[::2]\n",
    "sentence_labels = english_sentences_with_labels[1::2]\n",
    "\n",
    "english_sentences = [sentence for article in english_sentences for sentence in article]\n",
    "sentence_labels = [label for article in sentence_labels for label in article]"
   ]
  },
  {
   "cell_type": "code",
   "execution_count": 7,
   "metadata": {
    "collapsed": false
   },
   "outputs": [
    {
     "data": {
      "text/plain": [
       "(13158106, 13158106)"
      ]
     },
     "execution_count": 7,
     "metadata": {},
     "output_type": "execute_result"
    }
   ],
   "source": [
    "len(english_sentences), len(sentence_labels)"
   ]
  },
  {
   "cell_type": "code",
   "execution_count": 8,
   "metadata": {
    "collapsed": false
   },
   "outputs": [
    {
     "name": "stdout",
     "output_type": "stream",
     "text": [
      "For example, the 8-bit string \"11111111\" above represents 2&nbsp;−&nbsp;1&nbsp;=&nbsp;255.\n",
      "['For example, the 8-bit string \"11111111\" above represents 2&nbsp;−&nbsp;1&nbsp;=&nbsp;255.', 4, 6, 30, 46, 0.8, 0.8571428571428571, 0.967741935483871, 0.9787234042553191, 0, 1, 4, 0.0, 0.5, 0.8, 1, 0.5, 5, 0.8333333333333334, 5, 0.8333333333333334, 47, 90, 0, 0, 0, 0, 0, 0.0, 0.0, 0.1]\n"
     ]
    }
   ],
   "source": [
    "# Confirm sentences in each list match up correctly\n",
    "print(english_sentences[13158105])\n",
    "print(article_data[13158105])"
   ]
  },
  {
   "cell_type": "code",
   "execution_count": 9,
   "metadata": {
    "collapsed": false
   },
   "outputs": [],
   "source": [
    "# Combine the data and labels and convert to Pandas DataFrame\n",
    "data_for_modeling = [data + [label] for data, label in zip(article_data, sentence_labels)]\n",
    "column_names = [\"sentence\", \"cum_sect\", \"cum_subsect\", \"cum_para\", \"cum_sent\", \"cum_sect_%\", \"cum_subsect_%\", \n",
    "                    \"cum_para_%\", \"cum_sent_%\", \"subsect_in_sect\", \"para_in_subsect\", \"sent_in_para\", \n",
    "                    \"subsect_in_sect_%\", \"para_in_subsect_%\", \"sent_in_para_%\", \"para_in_section\", \n",
    "                    \"para_in_section_%\", \"sent_in_subsect\", \"sent_in_subsect_%\", \"sent_in_sect\", \"sent_in_sect_%\", \n",
    "                    \"total_sents\", \"sent_len\", \"subheading\", \"heading\", \"table\", \"bullet\", \"numbered_bullet\", \n",
    "                    \"topic_mentions\", \"polarity\", \"subjectivity\", \"label\"]\n",
    "df = pd.DataFrame(data_for_modeling, columns=column_names)"
   ]
  },
  {
   "cell_type": "code",
   "execution_count": 10,
   "metadata": {
    "collapsed": false
   },
   "outputs": [
    {
     "data": {
      "text/html": [
       "<div>\n",
       "<table border=\"1\" class=\"dataframe\">\n",
       "  <thead>\n",
       "    <tr style=\"text-align: right;\">\n",
       "      <th></th>\n",
       "      <th>sentence</th>\n",
       "      <th>cum_sect</th>\n",
       "      <th>cum_subsect</th>\n",
       "      <th>cum_para</th>\n",
       "      <th>cum_sent</th>\n",
       "      <th>cum_sect_%</th>\n",
       "      <th>cum_subsect_%</th>\n",
       "      <th>cum_para_%</th>\n",
       "      <th>cum_sent_%</th>\n",
       "      <th>subsect_in_sect</th>\n",
       "      <th>...</th>\n",
       "      <th>sent_len</th>\n",
       "      <th>subheading</th>\n",
       "      <th>heading</th>\n",
       "      <th>table</th>\n",
       "      <th>bullet</th>\n",
       "      <th>numbered_bullet</th>\n",
       "      <th>topic_mentions</th>\n",
       "      <th>polarity</th>\n",
       "      <th>subjectivity</th>\n",
       "      <th>label</th>\n",
       "    </tr>\n",
       "  </thead>\n",
       "  <tbody>\n",
       "    <tr>\n",
       "      <th>0</th>\n",
       "      <td>'''!!!'''</td>\n",
       "      <td>0</td>\n",
       "      <td>0</td>\n",
       "      <td>0</td>\n",
       "      <td>0</td>\n",
       "      <td>0</td>\n",
       "      <td>0</td>\n",
       "      <td>0</td>\n",
       "      <td>0</td>\n",
       "      <td>0</td>\n",
       "      <td>...</td>\n",
       "      <td>9</td>\n",
       "      <td>0</td>\n",
       "      <td>0</td>\n",
       "      <td>0</td>\n",
       "      <td>0</td>\n",
       "      <td>0</td>\n",
       "      <td>0</td>\n",
       "      <td>0</td>\n",
       "      <td>0</td>\n",
       "      <td>0</td>\n",
       "    </tr>\n",
       "  </tbody>\n",
       "</table>\n",
       "<p>1 rows × 32 columns</p>\n",
       "</div>"
      ],
      "text/plain": [
       "    sentence  cum_sect  cum_subsect  cum_para  cum_sent  cum_sect_%  \\\n",
       "0  '''!!!'''         0            0         0         0           0   \n",
       "\n",
       "   cum_subsect_%  cum_para_%  cum_sent_%  subsect_in_sect  ...    sent_len  \\\n",
       "0              0           0           0                0  ...           9   \n",
       "\n",
       "   subheading  heading  table  bullet  numbered_bullet  topic_mentions  \\\n",
       "0           0        0      0       0                0               0   \n",
       "\n",
       "   polarity  subjectivity  label  \n",
       "0         0             0      0  \n",
       "\n",
       "[1 rows x 32 columns]"
      ]
     },
     "execution_count": 10,
     "metadata": {},
     "output_type": "execute_result"
    }
   ],
   "source": [
    "df.head(1)"
   ]
  },
  {
   "cell_type": "code",
   "execution_count": 11,
   "metadata": {
    "collapsed": true
   },
   "outputs": [],
   "source": [
    "# Get X and y\n",
    "y = df[\"label\"]\n",
    "X = df.drop([\"sentence\", \"label\"], axis=1)"
   ]
  },
  {
   "cell_type": "code",
   "execution_count": 12,
   "metadata": {
    "collapsed": false
   },
   "outputs": [],
   "source": [
    "# All individual models tried\n",
    "# Note: Models evaluate by number of summary sentences output and qualitative assessment of summary quality\n",
    "models = {\n",
    "        \"linear_SVM\": LinearSVC(), # Too slow\n",
    "        \"SVM\": SVC(), # Too slow\n",
    "        \"RBF SVM\": SVC(), # Too slow\n",
    "        \"KNN4\": KNeighborsClassifier(4), # Too slow\n",
    "        \"decision_tree\": DecisionTreeClassifier(),  # Decent but not as good as random forest\n",
    "        \"random_forest\": RandomForestClassifier(),  # Best\n",
    "        \"gaussianNB\": GaussianNB(), # Keeps a lot, not as much of a summary\n",
    "        \"bernoulliNB\": BernoulliNB(), # Good amount, but very biased to long sentences with frequent topic meentions\n",
    "        \"logistic\": LogisticRegression(), # Too short\n",
    "        \"LDA\": LinearDiscriminantAnalysis(), # Too short\n",
    "        \"QDA\": QuadraticDiscriminantAnalysis(), # Too long\n",
    "        \"SGD_hinge\": SGDClassifier(loss=\"hinge\"), # Too long\n",
    "        \"SGD_huber\": SGDClassifier(loss=\"modified_huber\"), # Too short\n",
    "        \"SGD_log\": SGDClassifier(loss=\"log\"), # Good summary for some, still long for others\n",
    "        \"SGD_squared_hinge\": SGDClassifier(loss=\"squared_hinge\"), # Good for some, but returns no sentences for others\n",
    "        \"SGD_perceptron\": SGDClassifier(loss=\"perceptron\"), # Too short\n",
    "        \"adaboost\": AdaBoostClassifier(),  # Too slow\n",
    "        \"gradient_boosting\": GradientBoostingClassifier()  # Too slow\n",
    "    }"
   ]
  },
  {
   "cell_type": "code",
   "execution_count": null,
   "metadata": {
    "collapsed": false
   },
   "outputs": [],
   "source": [
    "# Best model\n",
    "model = RandomForestClassifier(min_samples_leaf=30)  # Min leaf samples limited to 30, to limit model size\n",
    "model.fit(X, y)"
   ]
  },
  {
   "cell_type": "code",
   "execution_count": 15,
   "metadata": {
    "collapsed": false
   },
   "outputs": [
    {
     "data": {
      "text/plain": [
       "773072"
      ]
     },
     "execution_count": 15,
     "metadata": {},
     "output_type": "execute_result"
    }
   ],
   "source": [
    "# Predict sentences to include in summary for data set to get sense of length of summaries\n",
    "predictions = model.predict(X)\n",
    "sum(predictions)"
   ]
  },
  {
   "cell_type": "code",
   "execution_count": 16,
   "metadata": {
    "collapsed": false
   },
   "outputs": [
    {
     "data": {
      "text/plain": [
       "(13158106, 2252795)"
      ]
     },
     "execution_count": 16,
     "metadata": {},
     "output_type": "execute_result"
    }
   ],
   "source": [
    "# English sentences = ~13M; Simple sentences = ~2M\n",
    "# Note ~2M sentences predicted would still be longer than our desired summary\n",
    "len(y), sum(y) "
   ]
  },
  {
   "cell_type": "code",
   "execution_count": 17,
   "metadata": {
    "collapsed": true
   },
   "outputs": [],
   "source": [
    "# Pack model into a dictionary and pickle\n",
    "model_pack = {\n",
    "    \"model\": model\n",
    "}\n",
    "\n",
    "# Save a version as a back-up\n",
    "pickle_it(model_pack, data_path + \"prediction_model.pkl\")\n",
    "\n",
    "# Save a version for use in Flask app\n",
    "pickle_it(model_pack, \"prediction_model.pkl\")"
   ]
  }
 ],
 "metadata": {
  "kernelspec": {
   "display_name": "Python 3",
   "language": "python",
   "name": "python3"
  },
  "language_info": {
   "codemirror_mode": {
    "name": "ipython",
    "version": 3
   },
   "file_extension": ".py",
   "mimetype": "text/x-python",
   "name": "python",
   "nbconvert_exporter": "python",
   "pygments_lexer": "ipython3",
   "version": "3.4.3"
  }
 },
 "nbformat": 4,
 "nbformat_minor": 0
}
